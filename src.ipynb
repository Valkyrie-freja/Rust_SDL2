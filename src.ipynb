{
 "cells": [
  {
   "cell_type": "code",
   "execution_count": 34,
   "metadata": {},
   "outputs": [
    {
     "name": "stdout",
     "output_type": "stream",
     "text": [
      "Cargo.toml not found.\n",
      "Please execute me at Cargo.toml.\n",
      "C:\\Users\\yadok\\AppData\\Roaming\\Python\\Python310\\site-packages\n"
     ]
    }
   ],
   "source": [
    "import os\n",
    "import sys\n",
    "import shutil\n",
    "import subprocess\n",
    "\n",
    "def main():\n",
    "  # 実行された場所と同じディレクトリに Cargo.toml があるか確認\n",
    "  if not os.path.exists('Cargo.toml'):\n",
    "    print('Cargo.toml not found.')\n",
    "    print('Please execute me at Cargo.toml.')\n",
    "    #return\n",
    "  \n",
    "  # resource 内部をコピぺ\n",
    "  exe_path = os.path.dirname(sys.argv[0])\n",
    "  print(exe_path)\n",
    "  return\n",
    "  resource_paths = ['D:/document/Program/Python/Rust_SDL2/resource/gnu-mingw',\n",
    "                    'D:/document/Program/Python/Rust_SDL2/resource/msvc',\n",
    "                    'D:/document/Program/Python/Rust_SDL2/resource/build.rs']\n",
    "  for resource_path in resource_paths:\n",
    "    shutil.copytree(resource_path, './')\n",
    "\n",
    "  # .gitignore に/*.dll を加筆\n",
    "  with open('.gitignore', mode='a') as gitignore:\n",
    "    gitignore.write('/*.dll')\n",
    "  \n",
    "  # Cargo.toml に [package]以下に build = \"build.rs\" を追加\n",
    "  with open('Cargo.toml', 'r+') as f:\n",
    "    lines = f.readlines()\n",
    "    package_next_index = lines.index('[package]\\n') + 1\n",
    "    lines.insert(package_next_index, 'build = \"build.rs\"\\n')\n",
    "    f.truncate(0)\n",
    "    f.seek(0)\n",
    "    f.writelines(lines)\n",
    "\n",
    "  # cargo add sdl2 コマンドを実行\n",
    "  subprocess.run(['cargo', 'add', 'sdl2'], shell=True)\n",
    "\n",
    "main()"
   ]
  }
 ],
 "metadata": {
  "kernelspec": {
   "display_name": "Python 3",
   "language": "python",
   "name": "python3"
  },
  "language_info": {
   "codemirror_mode": {
    "name": "ipython",
    "version": 3
   },
   "file_extension": ".py",
   "mimetype": "text/x-python",
   "name": "python",
   "nbconvert_exporter": "python",
   "pygments_lexer": "ipython3",
   "version": "3.10.7"
  },
  "orig_nbformat": 4
 },
 "nbformat": 4,
 "nbformat_minor": 2
}
